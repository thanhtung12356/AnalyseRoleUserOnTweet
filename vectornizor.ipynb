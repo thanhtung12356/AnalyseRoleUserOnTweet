{
 "cells": [
  {
   "cell_type": "code",
   "execution_count": 50,
   "metadata": {},
   "outputs": [],
   "source": [
    "import pandas as pd\n",
    "import torch\n",
    "import dgl\n",
    "import networkx as nx\n",
    "import numpy as np\n",
    "import torch.nn as nn\n",
    "import torch.nn.functional as F\n",
    "from sklearn.model_selection import train_test_split\n",
    "from dgl.nn import GraphConv\n",
    "import time\n",
    "import random\n"
   ]
  },
  {
   "cell_type": "code",
   "execution_count": 51,
   "metadata": {},
   "outputs": [],
   "source": [
    "nodes_df = pd.read_csv('clean_nodes.csv')\n",
    "edges_df = pd.read_csv('clean_edges.csv')"
   ]
  },
  {
   "cell_type": "markdown",
   "metadata": {},
   "source": [
    "1.Xây dựng đồ thị\n",
    "# Tạo mapping từ profile_id sang index (0 đến N-1)\n",
    "# Tạo tensor cho edge_index (dạng (2, num_edges))\n",
    "# Tạo đồ thị DGL"
   ]
  },
  {
   "cell_type": "code",
   "execution_count": 52,
   "metadata": {},
   "outputs": [],
   "source": [
    "profile_ids = nodes_df['profile_id'].tolist()\n",
    "node_to_idx = {user: i for i, user in enumerate(profile_ids)}\n",
    "\n",
    "# Xây dựng danh sách cạnh (chỉ thêm các cạnh có cả source và target nằm trong nodes)\n",
    "edge_list = []\n",
    "for idx, row in edges_df.iterrows():\n",
    "    src, tgt = row['source'], row['target']\n",
    "    if src in node_to_idx and tgt in node_to_idx:\n",
    "        edge_list.append( (node_to_idx[src], node_to_idx[tgt]) )\n",
    "\n",
    "if len(edge_list) == 0:\n",
    "    raise ValueError(\"Không tìm thấy cạnh hợp lệ!\")"
   ]
  },
  {
   "cell_type": "code",
   "execution_count": 53,
   "metadata": {},
   "outputs": [
    {
     "name": "stdout",
     "output_type": "stream",
     "text": [
      "DGL Graph: 25669 nút, 53452 cạnh\n"
     ]
    }
   ],
   "source": [
    "src_nodes, tgt_nodes = zip(*edge_list)\n",
    "edge_index_tensor = torch.tensor([src_nodes, tgt_nodes], dtype=torch.int64)\n",
    "\n",
    "g = dgl.graph((edge_index_tensor[0], edge_index_tensor[1]), num_nodes=len(profile_ids))\n",
    "print(\"DGL Graph: {} nút, {} cạnh\".format(g.num_nodes(), g.num_edges()))"
   ]
  },
  {
   "cell_type": "markdown",
   "metadata": {},
   "source": [
    "2. Tính toán các chỉ số mạng cơ bản"
   ]
  },
  {
   "cell_type": "code",
   "execution_count": null,
   "metadata": {},
   "outputs": [
    {
     "name": "stdout",
     "output_type": "stream",
     "text": [
      "Đã chuyển sang NetworkX.\n",
      "Betweenness Centrality tính xong trong 11.87 giây.\n",
      "Closeness Centrality tính xong trong 195.07 giây.\n",
      "Eigenvector Centrality không hội tụ: not implemented for multigraph type\n",
      "Eigenvector Centrality tính xong trong 0.06 giây.\n",
      "Các chỉ số mạng tính được, hiển thị 5 dòng đầu:\n",
      "   profile_id  in_degree  out_degree  betweenness  closeness  eigenvector\n",
      "0          14         61          54     0.010998   0.191469          0.0\n",
      "1         512          0           1     0.000000   0.000000          0.0\n",
      "2         533          1           1     0.000000   0.183487          0.0\n",
      "3         534       3252        2825     0.170321   0.254787          0.0\n",
      "4         564        110           3     0.000269   0.194558          0.0\n"
     ]
    }
   ],
   "source": [
    "nx_g = dgl.to_networkx(g)\n",
    "print(\"Đã chuyển sang NetworkX.\")\n",
    "\n",
    "# Nếu đồ thị lớn (n > 1000), dùng xấp xỉ cho betweenness (sample k nodes)\n",
    "num_nodes = g.num_nodes()\n",
    "k_sample = 100 if num_nodes > 1000 else None\n",
    "in_degrees = nx.in_degree_centrality(nx_g)\n",
    "out_degrees = nx.out_degree_centrality(nx_g)\n",
    "start_time = time.time()\n",
    "if k_sample:\n",
    "    betweenness = nx.betweenness_centrality(nx_g, k=k_sample, normalized=True)\n",
    "else:\n",
    "    betweenness = nx.betweenness_centrality(nx_g, normalized=True)\n",
    "print(\"Betweenness Centrality tính xong trong {:.2f} giây.\".format(time.time()-start_time))\n",
    "\n",
    "start_time = time.time()\n",
    "# Closeness có thể tính trực tiếp (cẩn thận với đồ thị lớn)\n",
    "closeness = nx.closeness_centrality(nx_g)\n",
    "print(\"Closeness Centrality tính xong trong {:.2f} giây.\".format(time.time()-start_time))\n",
    "\n",
    "start_time = time.time()\n",
    "# Eigenvector Centrality: nếu không hội tụ, bắt ngoại lệ và gán 0 cho nút đó\n",
    "try:\n",
    "    eigenvector = nx.eigenvector_centrality(nx_g)\n",
    "except Exception as e:\n",
    "    print(\"Eigenvector Centrality không hội tụ:\", e)\n",
    "    eigenvector = {i: 0.0 for i in range(num_nodes)}\n",
    "print(\"Eigenvector Centrality tính xong trong {:.2f} giây.\".format(time.time()-start_time))\n",
    "\n",
    "# Tạo DataFrame chứa các chỉ số mạng (sắp xếp theo index của node)\n",
    "metrics_df = pd.DataFrame({\n",
    "    'profile_id': profile_ids,\n",
    "    'in_degree': [in_degrees.get(node, 0) for node in range(num_nodes)],\n",
    "    'out_degree': [out_degrees.get(node, 0) for node in range(num_nodes)],\n",
    "    'betweenness': [betweenness.get(i, 0.0) for i in range(num_nodes)],\n",
    "    'closeness': [closeness.get(i, 0.0) for i in range(num_nodes)],\n",
    "    'eigenvector': [eigenvector.get(i, 0.0) for i in range(num_nodes)]\n",
    "})\n",
    "print(\"Các chỉ số mạng tính được, hiển thị 5 dòng đầu:\")\n",
    "print(metrics_df.head())"
   ]
  },
  {
   "cell_type": "code",
   "execution_count": 55,
   "metadata": {},
   "outputs": [
    {
     "data": {
      "text/html": [
       "<div>\n",
       "<style scoped>\n",
       "    .dataframe tbody tr th:only-of-type {\n",
       "        vertical-align: middle;\n",
       "    }\n",
       "\n",
       "    .dataframe tbody tr th {\n",
       "        vertical-align: top;\n",
       "    }\n",
       "\n",
       "    .dataframe thead th {\n",
       "        text-align: right;\n",
       "    }\n",
       "</style>\n",
       "<table border=\"1\" class=\"dataframe\">\n",
       "  <thead>\n",
       "    <tr style=\"text-align: right;\">\n",
       "      <th></th>\n",
       "      <th>profile_id</th>\n",
       "      <th>in_degree</th>\n",
       "      <th>out_degree</th>\n",
       "      <th>betweenness</th>\n",
       "      <th>closeness</th>\n",
       "      <th>eigenvector</th>\n",
       "    </tr>\n",
       "  </thead>\n",
       "  <tbody>\n",
       "    <tr>\n",
       "      <th>0</th>\n",
       "      <td>14</td>\n",
       "      <td>61</td>\n",
       "      <td>54</td>\n",
       "      <td>0.010998</td>\n",
       "      <td>0.191469</td>\n",
       "      <td>0.0</td>\n",
       "    </tr>\n",
       "    <tr>\n",
       "      <th>2</th>\n",
       "      <td>533</td>\n",
       "      <td>1</td>\n",
       "      <td>1</td>\n",
       "      <td>0.000000</td>\n",
       "      <td>0.183487</td>\n",
       "      <td>0.0</td>\n",
       "    </tr>\n",
       "    <tr>\n",
       "      <th>3</th>\n",
       "      <td>534</td>\n",
       "      <td>3252</td>\n",
       "      <td>2825</td>\n",
       "      <td>0.170321</td>\n",
       "      <td>0.254787</td>\n",
       "      <td>0.0</td>\n",
       "    </tr>\n",
       "    <tr>\n",
       "      <th>4</th>\n",
       "      <td>564</td>\n",
       "      <td>110</td>\n",
       "      <td>3</td>\n",
       "      <td>0.000269</td>\n",
       "      <td>0.194558</td>\n",
       "      <td>0.0</td>\n",
       "    </tr>\n",
       "    <tr>\n",
       "      <th>5</th>\n",
       "      <td>598</td>\n",
       "      <td>2</td>\n",
       "      <td>3</td>\n",
       "      <td>0.000180</td>\n",
       "      <td>0.174467</td>\n",
       "      <td>0.0</td>\n",
       "    </tr>\n",
       "    <tr>\n",
       "      <th>...</th>\n",
       "      <td>...</td>\n",
       "      <td>...</td>\n",
       "      <td>...</td>\n",
       "      <td>...</td>\n",
       "      <td>...</td>\n",
       "      <td>...</td>\n",
       "    </tr>\n",
       "    <tr>\n",
       "      <th>25664</th>\n",
       "      <td>11313784</td>\n",
       "      <td>1</td>\n",
       "      <td>0</td>\n",
       "      <td>0.000000</td>\n",
       "      <td>0.129857</td>\n",
       "      <td>0.0</td>\n",
       "    </tr>\n",
       "    <tr>\n",
       "      <th>25665</th>\n",
       "      <td>11313915</td>\n",
       "      <td>1</td>\n",
       "      <td>0</td>\n",
       "      <td>0.000000</td>\n",
       "      <td>0.134640</td>\n",
       "      <td>0.0</td>\n",
       "    </tr>\n",
       "    <tr>\n",
       "      <th>25666</th>\n",
       "      <td>11313924</td>\n",
       "      <td>1</td>\n",
       "      <td>0</td>\n",
       "      <td>0.000000</td>\n",
       "      <td>0.134640</td>\n",
       "      <td>0.0</td>\n",
       "    </tr>\n",
       "    <tr>\n",
       "      <th>25667</th>\n",
       "      <td>11313953</td>\n",
       "      <td>1</td>\n",
       "      <td>0</td>\n",
       "      <td>0.000000</td>\n",
       "      <td>0.134640</td>\n",
       "      <td>0.0</td>\n",
       "    </tr>\n",
       "    <tr>\n",
       "      <th>25668</th>\n",
       "      <td>11315920</td>\n",
       "      <td>1</td>\n",
       "      <td>0</td>\n",
       "      <td>0.000000</td>\n",
       "      <td>0.125085</td>\n",
       "      <td>0.0</td>\n",
       "    </tr>\n",
       "  </tbody>\n",
       "</table>\n",
       "<p>16386 rows × 6 columns</p>\n",
       "</div>"
      ],
      "text/plain": [
       "       profile_id  in_degree  out_degree  betweenness  closeness  eigenvector\n",
       "0              14         61          54     0.010998   0.191469          0.0\n",
       "2             533          1           1     0.000000   0.183487          0.0\n",
       "3             534       3252        2825     0.170321   0.254787          0.0\n",
       "4             564        110           3     0.000269   0.194558          0.0\n",
       "5             598          2           3     0.000180   0.174467          0.0\n",
       "...           ...        ...         ...          ...        ...          ...\n",
       "25664    11313784          1           0     0.000000   0.129857          0.0\n",
       "25665    11313915          1           0     0.000000   0.134640          0.0\n",
       "25666    11313924          1           0     0.000000   0.134640          0.0\n",
       "25667    11313953          1           0     0.000000   0.134640          0.0\n",
       "25668    11315920          1           0     0.000000   0.125085          0.0\n",
       "\n",
       "[16386 rows x 6 columns]"
      ]
     },
     "execution_count": 55,
     "metadata": {},
     "output_type": "execute_result"
    }
   ],
   "source": [
    "metrics_df[metrics_df['in_degree'] > 0]"
   ]
  },
  {
   "cell_type": "markdown",
   "metadata": {},
   "source": [
    "# 3. Nhúng đồ thị sử dụng GNN với DGL (GCN)\n"
   ]
  },
  {
   "cell_type": "code",
   "execution_count": 56,
   "metadata": {},
   "outputs": [],
   "source": [
    "class GCN(nn.Module):\n",
    "    def __init__(self, in_feats, hidden_feats, out_feats):\n",
    "        super(GCN, self).__init__()\n",
    "        self.conv1 = GraphConv(in_feats, hidden_feats)\n",
    "        self.conv2 = GraphConv(hidden_feats, out_feats)\n",
    "    \n",
    "    def forward(self, graph, features):\n",
    "        x = self.conv1(graph, features)\n",
    "        x = F.relu(x)\n",
    "        x = self.conv2(graph, x)\n",
    "        return x"
   ]
  },
  {
   "cell_type": "code",
   "execution_count": 57,
   "metadata": {},
   "outputs": [
    {
     "name": "stdout",
     "output_type": "stream",
     "text": [
      "Adam (\n",
      "Parameter Group 0\n",
      "    amsgrad: False\n",
      "    betas: (0.9, 0.999)\n",
      "    capturable: False\n",
      "    differentiable: False\n",
      "    eps: 1e-08\n",
      "    foreach: None\n",
      "    fused: None\n",
      "    lr: 0.01\n",
      "    maximize: False\n",
      "    weight_decay: 0\n",
      ")\n"
     ]
    }
   ],
   "source": [
    "# Nếu chưa có đặc trưng cho nút, tạo feature ngẫu nhiên (ví dụ, kích thước 16)\n",
    "feat_dim = 16\n",
    "if 'feat' not in g.ndata:\n",
    "    g.ndata['feat'] = torch.randn(g.num_nodes(), feat_dim)\n",
    "\n",
    "embedding_dim = 16  # Kích thước vector nhúng mong muốn\n",
    "model = GCN(feat_dim, 2 * embedding_dim, embedding_dim)\n",
    "optimizer = torch.optim.Adam(model.parameters(), lr=0.01)\n",
    "print(optimizer)"
   ]
  },
  {
   "cell_type": "code",
   "execution_count": 58,
   "metadata": {},
   "outputs": [
    {
     "name": "stdout",
     "output_type": "stream",
     "text": [
      "Kích thước z: torch.Size([565841, 16])\n",
      "Kích thước g.ndata['feat']: torch.Size([25669, 16])\n",
      "Epoch 010: Loss = 0.5747\n",
      "Epoch 020: Loss = 0.2677\n",
      "Epoch 030: Loss = 0.1630\n",
      "Epoch 040: Loss = 0.1233\n",
      "Epoch 050: Loss = 0.0884\n",
      "Epoch 060: Loss = 0.0662\n",
      "Epoch 070: Loss = 0.0499\n",
      "Epoch 080: Loss = 0.0382\n",
      "Epoch 090: Loss = 0.0298\n",
      "Epoch 100: Loss = 0.0237\n"
     ]
    }
   ],
   "source": [
    "# Để giảm chi phí tính toán, ta huấn luyện số epoch thấp (ví dụ 100 epoch)\n",
    "num_epochs = 100\n",
    "print(\"Kích thước z:\", z.shape)\n",
    "print(\"Kích thước g.ndata['feat']:\", g.ndata['feat'].shape)\n",
    "\n",
    "for epoch in range(num_epochs):\n",
    "    model.train()\n",
    "    optimizer.zero_grad()\n",
    "    g = dgl.add_self_loop(g)\n",
    "    # Ở đây, làm bài toán tự giám sát đơn giản: tái tạo lại đặc trưng ban đầu bằng MSE\n",
    "    z = model(g, g.ndata['feat'])\n",
    "    loss = F.mse_loss(z, g.ndata['feat'])\n",
    "    loss.backward()\n",
    "    optimizer.step()\n",
    "    if (epoch + 1) % 10 == 0:\n",
    "        print(f\"Epoch {epoch+1:03d}: Loss = {loss.item():.4f}\")\n",
    "\n",
    "# Sau huấn luyện, trích xuất vector nhúng của các nút\n",
    "model.eval()\n",
    "with torch.no_grad():\n",
    "    node_embeddings = model(g, g.ndata['feat']).cpu().numpy()\n",
    "\n",
    "# Tạo DataFrame cho embedding: đặt tên cột là gnn_emb_0, gnn_emb_1, ... gnn_emb_63\n",
    "embedding_df = pd.DataFrame(node_embeddings, columns=[f'gnn_emb_{i}' for i in range(embedding_dim)])\n",
    "embedding_df['profile_id'] = profile_ids"
   ]
  },
  {
   "cell_type": "code",
   "execution_count": 59,
   "metadata": {},
   "outputs": [
    {
     "name": "stdout",
     "output_type": "stream",
     "text": [
      "Kết quả đặc trưng kết hợp, 5 dòng đầu:\n",
      "   profile_id  in_degree  out_degree  betweenness  closeness  eigenvector  \\\n",
      "0          14         61          54     0.010998   0.191469          0.0   \n",
      "1         512          0           1     0.000000   0.000000          0.0   \n",
      "2         533          1           1     0.000000   0.183487          0.0   \n",
      "3         534       3252        2825     0.170321   0.254787          0.0   \n",
      "4         564        110           3     0.000269   0.194558          0.0   \n",
      "\n",
      "   gnn_emb_0  gnn_emb_1  gnn_emb_2  gnn_emb_3  ...  gnn_emb_6  gnn_emb_7  \\\n",
      "0   0.211611  -0.269107   0.273392  -0.296295  ...  -0.035242   0.167099   \n",
      "1  -0.331892   0.245718  -0.127536   1.064909  ...  -0.488813   2.731494   \n",
      "2   0.500691   0.150737  -0.137665  -1.646185  ...   2.055947  -1.145390   \n",
      "3  -0.007179   0.653304  -0.476211   0.049931  ...  -0.598944   0.423170   \n",
      "4  -0.534705   1.021134  -0.330630  -0.251206  ...  -1.197644  -0.229253   \n",
      "\n",
      "   gnn_emb_8  gnn_emb_9  gnn_emb_10  gnn_emb_11  gnn_emb_12  gnn_emb_13  \\\n",
      "0   0.160259  -0.274770    0.529678   -0.592954   -0.434381    0.631305   \n",
      "1  -0.168228   0.574580   -0.725955    1.440069    0.988772    0.479626   \n",
      "2  -0.191167  -0.272023    0.046450    0.523815   -0.108906   -0.663571   \n",
      "3  -0.127218  -0.617603    0.993495    0.103717   -1.163863    1.333986   \n",
      "4  -0.486613   0.555429   -0.294560   -0.526531   -0.462786    0.312274   \n",
      "\n",
      "   gnn_emb_14  gnn_emb_15  \n",
      "0    0.125773   -0.164979  \n",
      "1   -0.398622   -0.433876  \n",
      "2   -0.155089    0.510967  \n",
      "3   -0.777232    0.013848  \n",
      "4    0.514031    0.776007  \n",
      "\n",
      "[5 rows x 22 columns]\n",
      "Đã lưu đặc trưng kết hợp vào file 'combined_user_features.csv'\n"
     ]
    }
   ],
   "source": [
    "##############################################\n",
    "# 4. Kết hợp đặc trưng: Metrics + GNN Embedding\n",
    "##############################################\n",
    "\n",
    "combined_df = pd.merge(metrics_df, embedding_df, on='profile_id')\n",
    "print(\"Kết quả đặc trưng kết hợp, 5 dòng đầu:\")\n",
    "print(combined_df.head())\n",
    "\n",
    "# Lưu kết quả ra file CSV\n",
    "combined_df.to_csv('combined_user_features.csv', index=False)\n",
    "print(\"Đã lưu đặc trưng kết hợp vào file 'combined_user_features.csv'\")"
   ]
  }
 ],
 "metadata": {
  "kernelspec": {
   "display_name": "sklearn-env",
   "language": "python",
   "name": "python3"
  },
  "language_info": {
   "codemirror_mode": {
    "name": "ipython",
    "version": 3
   },
   "file_extension": ".py",
   "mimetype": "text/x-python",
   "name": "python",
   "nbconvert_exporter": "python",
   "pygments_lexer": "ipython3",
   "version": "3.11.11"
  }
 },
 "nbformat": 4,
 "nbformat_minor": 2
}

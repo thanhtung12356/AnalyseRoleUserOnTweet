{
 "cells": [
  {
   "cell_type": "code",
   "execution_count": 21,
   "metadata": {},
   "outputs": [],
   "source": [
    "import pandas as pd\n",
    "import torch\n",
    "import dgl\n",
    "from sklearn.preprocessing import StandardScaler, MinMaxScaler,RobustScaler\n",
    "import networkx as nx\n",
    "import numpy as np\n",
    "import torch.nn as nn\n",
    "import torch.nn.functional as F\n",
    "from dgl.nn import GraphConv\n",
    "import time\n",
    "import math\n"
   ]
  },
  {
   "cell_type": "code",
   "execution_count": 22,
   "metadata": {},
   "outputs": [],
   "source": [
    "nodes_df = pd.read_csv('clean_nodes.csv')\n",
    "edges_df = pd.read_csv('clean_edges.csv')"
   ]
  },
  {
   "cell_type": "markdown",
   "metadata": {},
   "source": [
    "1.Xây dựng đồ thị\n",
    "# Tạo mapping từ profile_id sang index (0 đến N-1)\n",
    "# Tạo tensor cho edge_index (dạng (2, num_edges))\n",
    "# Tạo đồ thị DGL"
   ]
  },
  {
   "cell_type": "code",
   "execution_count": 23,
   "metadata": {},
   "outputs": [],
   "source": [
    "profile_ids = nodes_df['profile_id'].tolist()\n",
    "node_to_idx = {user: i for i, user in enumerate(profile_ids)}\n",
    "# 2. Chuyển đổi danh sách cạnh thành tensor edge_index cho DGL\n",
    "edge_list = []\n",
    "for idx, row in edges_df.iterrows():\n",
    "    src, tgt = row['source'], row['target']\n",
    "    if src in node_to_idx and tgt in node_to_idx:\n",
    "        edge_list.append( (node_to_idx[src], node_to_idx[tgt]) )\n"
   ]
  },
  {
   "cell_type": "code",
   "execution_count": 24,
   "metadata": {},
   "outputs": [
    {
     "name": "stdout",
     "output_type": "stream",
     "text": [
      "Số lượng nút: 25669 Số lượng cạnh: 53452\n"
     ]
    }
   ],
   "source": [
    "# Chuyển đổi edge_list thành tensor, với định dạng (source_indices, target_indices)\n",
    "src_nodes, tgt_nodes = zip(*edge_list)\n",
    "edge_array = torch.tensor(edge_list, dtype=torch.long).t()  # Kích thước [2, num_edges]\n",
    "\n",
    "# Tạo đồ thị DGL\n",
    "g = dgl.graph((edge_array[0], edge_array[1]), num_nodes=len(profile_ids))\n",
    "print(\"Số lượng nút:\", g.num_nodes(), \"Số lượng cạnh:\", g.num_edges())"
   ]
  },
  {
   "cell_type": "markdown",
   "metadata": {},
   "source": [
    "2. Tính toán các chỉ số mạng cơ bản"
   ]
  },
  {
   "cell_type": "code",
   "execution_count": 25,
   "metadata": {},
   "outputs": [
    {
     "name": "stdout",
     "output_type": "stream",
     "text": [
      "True\n",
      "Đã chuyển sang NetworkX.\n",
      "completed in/out degree\n",
      "completed betweeness centrality\n",
      "Các chỉ số mạng tính được, hiển thị 5 dòng đầu:\n",
      "   profile_id  in_degree  out_degree  betweenness  eigenvector\n",
      "0          14   0.002376    0.002104     0.008969     0.018924\n",
      "1         512   0.000000    0.000039     0.000000     0.000165\n",
      "2         533   0.000039    0.000039     0.000000     0.000329\n",
      "3         534   0.126695    0.110059     0.164540     1.000000\n",
      "4         564   0.004285    0.000117     0.000454     0.018595\n"
     ]
    }
   ],
   "source": [
    "nx_g = dgl.to_networkx(g,node_attrs=g.ndata,edge_attrs=g.edata)\n",
    "print(nx_g.is_directed())\n",
    "num_nodes = g.num_nodes()\n",
    "print(\"Đã chuyển sang NetworkX.\")\n",
    "\n",
    "def approximate_centrality_metrics(G, sample_ratio=0.1):\n",
    "    num_nodes = G.number_of_nodes()\n",
    "    \n",
    "    # Chọn mẫu ngẫu nhiên các nút\n",
    "    sampled_nodes = np.random.choice(\n",
    "        list(G.nodes()), \n",
    "        size=int(num_nodes * sample_ratio), \n",
    "        replace=False\n",
    "    )\n",
    "    # In-degree Centrality\n",
    "    in_degrees = nx.in_degree_centrality(G)\n",
    "    # Out-degree Centrality\n",
    "    out_degrees = nx.out_degree_centrality(G)\n",
    "    print('completed in/out degree')\n",
    "    # Betweenness Centrality (xấp xỉ)\n",
    "    betweenness = nx.betweenness_centrality(\n",
    "        G, \n",
    "        k=min(500, len(sampled_nodes)),  # Giới hạn số nút mẫu\n",
    "        normalized=True\n",
    "    )\n",
    "    print('completed betweeness centrality')\n",
    "    # reciprocity tính đối ứng\n",
    "    # reciprocity = nx.reciprocity(G,G.nodes())\n",
    "    # clossness\n",
    "    # closeness = nx.closeness_centrality(G)\n",
    "    # print('completed clossness centrality')\n",
    "    # Eigenvector Centrality (xấp xỉ)\n",
    "    try:\n",
    "        eigenvector = nx.eigenvector_centrality(\n",
    "            G, \n",
    "            max_iter=100,  # Giới hạn số lần lặp\n",
    "            tol=1e-3       # Ngưỡng hội tụ\n",
    "        )\n",
    "    except:\n",
    "        # Nếu không hội tụ, sử dụng degree centrality làm xấp xỉ\n",
    "        eigenvector = {n: d for n, d in G.degree()}\n",
    "        max_degree = max(eigenvector.values())\n",
    "        eigenvector = {n: d/max_degree for n, d in eigenvector.items()}\n",
    "    \n",
    "    return {\n",
    "        'in_degree': in_degrees,\n",
    "        'out_degree': out_degrees,\n",
    "        'betweenness': betweenness,\n",
    "        # 'reciprocity': reciprocity,\n",
    "        'eigenvector': eigenvector\n",
    "    }\n",
    "\n",
    "centrality_metrics = approximate_centrality_metrics(nx_g)\n",
    "# Tạo DataFrame chứa các chỉ số mạng (sắp xếp theo index của node)\n",
    "metrics_df = pd.DataFrame({\n",
    "    'profile_id': profile_ids,\n",
    "    'in_degree': [centrality_metrics['in_degree'].get(node, 0) for node in range(num_nodes)],\n",
    "    'out_degree': [centrality_metrics['out_degree'].get(node, 0) for node in range(num_nodes)],\n",
    "    'betweenness': [centrality_metrics['betweenness'].get(node, 0.0) for node in range(num_nodes)],\n",
    "    # 'reciprocity': [centrality_metrics['reciprocity'].get(node, 0.0) for node in range(num_nodes)],\n",
    "    # 'closeness': [centrality_metrics['closeness'].get(node, 0.0) for node in range(num_nodes)],\n",
    "    'eigenvector': [centrality_metrics['eigenvector'].get(node, 0.0) for node in range(num_nodes)]\n",
    "})\n",
    "print(\"Các chỉ số mạng tính được, hiển thị 5 dòng đầu:\")\n",
    "print(metrics_df.head())"
   ]
  },
  {
   "cell_type": "markdown",
   "metadata": {},
   "source": [
    "# 3. Nhúng đồ thị sử dụng GNN với DGL (GCN)\n"
   ]
  },
  {
   "cell_type": "code",
   "execution_count": 26,
   "metadata": {},
   "outputs": [],
   "source": [
    "class GCN(nn.Module):\n",
    "    def __init__(self, in_feats, hidden_feats, out_feats):\n",
    "        super(GCN, self).__init__()\n",
    "        self.conv1 = GraphConv(in_feats, hidden_feats)\n",
    "        self.conv2 = GraphConv(hidden_feats, out_feats)\n",
    "    \n",
    "    def forward(self, graph, features):\n",
    "        x = self.conv1(graph, features)\n",
    "        x = F.relu(x)\n",
    "        x = self.conv2(graph, x)\n",
    "        return x"
   ]
  },
  {
   "cell_type": "code",
   "execution_count": 27,
   "metadata": {},
   "outputs": [
    {
     "name": "stdout",
     "output_type": "stream",
     "text": [
      "Adam (\n",
      "Parameter Group 0\n",
      "    amsgrad: False\n",
      "    betas: (0.9, 0.999)\n",
      "    capturable: False\n",
      "    differentiable: False\n",
      "    eps: 1e-08\n",
      "    foreach: None\n",
      "    fused: None\n",
      "    lr: 0.001\n",
      "    maximize: False\n",
      "    weight_decay: 0\n",
      ")\n"
     ]
    }
   ],
   "source": [
    "# Nếu chưa có đặc trưng cho nút, tạo feature ngẫu nhiên (ví dụ, kích thước 16)\n",
    "feat_dim = 16\n",
    "if 'feat' not in g.ndata:\n",
    "    g.ndata['feat'] = torch.randn(g.num_nodes(), feat_dim)\n",
    "\n",
    "embedding_dim = 16  # Kích thước vector nhúng mong muốn\n",
    "model = GCN(feat_dim, 2 * embedding_dim, embedding_dim)\n",
    "optimizer = torch.optim.Adam(model.parameters(), lr=0.001)\n",
    "print(optimizer)"
   ]
  },
  {
   "cell_type": "code",
   "execution_count": 28,
   "metadata": {},
   "outputs": [
    {
     "name": "stdout",
     "output_type": "stream",
     "text": [
      "Epoch 010: Loss = 1.3111\n",
      "Epoch 020: Loss = 1.2123\n",
      "Epoch 030: Loss = 1.1001\n",
      "Epoch 040: Loss = 0.9979\n",
      "Epoch 050: Loss = 0.9071\n",
      "Epoch 060: Loss = 0.8264\n",
      "Epoch 070: Loss = 0.7541\n",
      "Epoch 080: Loss = 0.6889\n",
      "Epoch 090: Loss = 0.6298\n",
      "Epoch 100: Loss = 0.5762\n"
     ]
    }
   ],
   "source": [
    "# Để giảm chi phí tính toán, ta huấn luyện số epoch thấp (ví dụ 100 epoch)\n",
    "num_epochs = 100\n",
    "for epoch in range(num_epochs):\n",
    "    model.train()\n",
    "    optimizer.zero_grad()\n",
    "    g = dgl.add_self_loop(g)\n",
    "    # Ở đây, làm bài toán tự giám sát đơn giản: tái tạo lại đặc trưng ban đầu bằng MSE\n",
    "    z = model(g, g.ndata['feat'])\n",
    "    loss = F.mse_loss(z, g.ndata['feat'])\n",
    "    loss.backward()\n",
    "    optimizer.step()\n",
    "    if (epoch + 1) % 10 == 0:\n",
    "        print(f\"Epoch {epoch+1:03d}: Loss = {loss.item():.4f}\")\n",
    "\n",
    "# Sau huấn luyện, trích xuất vector nhúng của các nút\n",
    "model.eval()\n",
    "with torch.no_grad():\n",
    "    node_embeddings = model(g, g.ndata['feat']).cpu().numpy()\n",
    "\n",
    "# Tạo DataFrame cho embedding: đặt tên cột là gnn_emb_0, gnn_emb_1, ... gnn_emb_63\n",
    "embedding_df = pd.DataFrame(node_embeddings, columns=[f'gnn_emb_{i}' for i in range(embedding_dim)])\n",
    "embedding_df['profile_id'] = profile_ids"
   ]
  },
  {
   "cell_type": "code",
   "execution_count": 29,
   "metadata": {},
   "outputs": [
    {
     "name": "stdout",
     "output_type": "stream",
     "text": [
      "Dữ liệu sau khi chuẩn hóa với RobustScaler:\n",
      "         profile_id     in_degree    out_degree   betweenness   eigenvector  \\\n",
      "count  2.566900e+04  25669.000000  25669.000000  25669.000000  25669.000000   \n",
      "mean   3.633382e+06      0.000640      0.000737      0.000301      0.000521   \n",
      "std    3.134120e+06      0.010569      0.009013      0.009077      0.009414   \n",
      "min    1.400000e+01      0.000000      0.000000      0.000000      0.000000   \n",
      "25%    1.013983e+06      0.000000      0.000000      0.000000      0.000000   \n",
      "50%    2.815261e+06      0.000308      0.000354      0.000000      0.000000   \n",
      "75%    5.824166e+06      0.000308      0.000354      0.000000      0.000165   \n",
      "max    1.131592e+07      1.000000      1.000000      1.000000      1.000000   \n",
      "\n",
      "          gnn_emb_0     gnn_emb_1     gnn_emb_2     gnn_emb_3     gnn_emb_4  \\\n",
      "count  2.566900e+04  2.566900e+04  2.566900e+04  2.566900e+04  2.566900e+04   \n",
      "mean   1.605000e-08 -6.241665e-09 -1.070000e-08 -8.173608e-09  6.836109e-09   \n",
      "std    1.000017e+00  1.000019e+00  1.000018e+00  1.000018e+00  1.000018e+00   \n",
      "min   -3.606386e+00 -4.856350e+00 -3.931091e+00 -4.897036e+00 -4.825986e+00   \n",
      "25%   -6.776687e-01 -6.466814e-01 -6.747717e-01 -6.204538e-01 -6.516356e-01   \n",
      "50%   -2.176082e-02  3.288138e-02 -1.280747e-02  5.882878e-02 -1.397856e-02   \n",
      "75%    6.428018e-01  6.854172e-01  6.627806e-01  6.844947e-01  6.350973e-01   \n",
      "max    4.981670e+00  3.592526e+00  4.455370e+00  3.535397e+00  4.392645e+00   \n",
      "\n",
      "       ...     gnn_emb_6     gnn_emb_7     gnn_emb_8     gnn_emb_9  \\\n",
      "count  ...  2.566900e+04  2.566900e+04  2.566900e+04  2.566900e+04   \n",
      "mean   ...  1.894791e-09 -8.322219e-09  4.755554e-09 -2.786457e-09   \n",
      "std    ...  1.000018e+00  1.000019e+00  1.000018e+00  1.000019e+00   \n",
      "min    ... -3.823688e+00 -3.500754e+00 -4.592042e+00 -4.377584e+00   \n",
      "25%    ... -6.587008e-01 -6.929922e-01 -6.848823e-01 -6.470304e-01   \n",
      "50%    ...  1.563597e-03 -6.509390e-02 -6.796187e-02 -2.254824e-03   \n",
      "75%    ...  6.625335e-01  6.282244e-01  6.240649e-01  6.625788e-01   \n",
      "max    ...  4.069706e+00  5.431258e+00  5.120484e+00  4.272067e+00   \n",
      "\n",
      "         gnn_emb_10    gnn_emb_11    gnn_emb_12    gnn_emb_13    gnn_emb_14  \\\n",
      "count  2.566900e+04  2.566900e+04  2.566900e+04  2.566900e+04  2.566900e+04   \n",
      "mean  -3.566665e-09 -1.118298e-08  1.337500e-08  3.603818e-09 -1.174027e-08   \n",
      "std    1.000019e+00  1.000021e+00  1.000018e+00  1.000019e+00  1.000019e+00   \n",
      "min   -4.488963e+00 -3.945521e+00 -4.085229e+00 -4.488009e+00 -4.294137e+00   \n",
      "25%   -6.491809e-01 -6.599098e-01 -6.676189e-01 -6.572238e-01 -6.577286e-01   \n",
      "50%    2.496750e-02  1.376392e-02 -6.044877e-03 -2.596451e-02 -7.785595e-03   \n",
      "75%    6.687130e-01  6.634347e-01  6.636602e-01  6.358766e-01  6.600382e-01   \n",
      "max    4.591334e+00  5.141882e+00  4.446776e+00  4.545575e+00  3.786753e+00   \n",
      "\n",
      "         gnn_emb_15  \n",
      "count  2.566900e+04  \n",
      "mean  -1.025416e-08  \n",
      "std    1.000018e+00  \n",
      "min   -4.457617e+00  \n",
      "25%   -6.329667e-01  \n",
      "50%    2.161314e-02  \n",
      "75%    6.658103e-01  \n",
      "max    3.967915e+00  \n",
      "\n",
      "[8 rows x 21 columns]\n",
      "Đã lưu đặc trưng kết hợp vào file 'combined_user_features.csv'\n"
     ]
    }
   ],
   "source": [
    "##############################################\n",
    "# 4. Kết hợp đặc trưng: Metrics + GNN Embedding\n",
    "##############################################\n",
    "# Chuẩn hóa các chỉ số centrality\n",
    "scaler_centrality = MinMaxScaler()\n",
    "centrality_columns = ['in_degree', 'out_degree', 'betweenness', 'eigenvector']\n",
    "metrics_df[centrality_columns] = scaler_centrality.fit_transform(metrics_df[centrality_columns])\n",
    "\n",
    "# Chuẩn hóa node embeddings\n",
    "scaler_embedding = StandardScaler()\n",
    "embedding_columns = [f'gnn_emb_{i}' for i in range(embedding_dim)]\n",
    "embedding_df[embedding_columns] = scaler_embedding.fit_transform(embedding_df[embedding_columns])\n",
    "\n",
    "# Phần code còn lại giữ nguyên\n",
    "combined_df = pd.merge(metrics_df, embedding_df, on='profile_id')\n",
    "print(\"Dữ liệu sau khi chuẩn hóa với RobustScaler:\")\n",
    "print(combined_df.describe())\n",
    "\n",
    "# Lưu kết quả ra file CSV\n",
    "combined_df.to_csv('combined_user_features.csv', index=False)\n",
    "print(\"Đã lưu đặc trưng kết hợp vào file 'combined_user_features.csv'\")"
   ]
  }
 ],
 "metadata": {
  "kernelspec": {
   "display_name": "sklearn-env",
   "language": "python",
   "name": "python3"
  },
  "language_info": {
   "codemirror_mode": {
    "name": "ipython",
    "version": 3
   },
   "file_extension": ".py",
   "mimetype": "text/x-python",
   "name": "python",
   "nbconvert_exporter": "python",
   "pygments_lexer": "ipython3",
   "version": "3.11.11"
  }
 },
 "nbformat": 4,
 "nbformat_minor": 2
}

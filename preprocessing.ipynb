{
 "cells": [
  {
   "cell_type": "code",
   "execution_count": 4,
   "metadata": {},
   "outputs": [],
   "source": [
    "import pandas as pd\n",
    "import networkx as nx\n",
    "import matplotlib.pyplot as plt\n",
    "import random"
   ]
  },
  {
   "cell_type": "code",
   "execution_count": null,
   "metadata": {},
   "outputs": [],
   "source": [
    "#20% profile user\n",
    "nodes_df = pd.read_csv(\"extract_nodes.csv\")\n",
    "#20% số lượng user follow lẫn nhau\n",
    "edges_df = pd.read_csv(\"extractedges.csv\")\n"
   ]
  },
  {
   "cell_type": "code",
   "execution_count": 12,
   "metadata": {},
   "outputs": [
    {
     "data": {
      "text/plain": [
       "4266593"
      ]
     },
     "execution_count": 12,
     "metadata": {},
     "output_type": "execute_result"
    }
   ],
   "source": [
    "len(edges_df)"
   ]
  },
  {
   "cell_type": "code",
   "execution_count": 13,
   "metadata": {},
   "outputs": [
    {
     "data": {
      "text/plain": [
       "565841"
      ]
     },
     "execution_count": 13,
     "metadata": {},
     "output_type": "execute_result"
    }
   ],
   "source": [
    "len(nodes_df)"
   ]
  },
  {
   "cell_type": "code",
   "execution_count": 14,
   "metadata": {},
   "outputs": [
    {
     "data": {
      "text/html": [
       "<div>\n",
       "<style scoped>\n",
       "    .dataframe tbody tr th:only-of-type {\n",
       "        vertical-align: middle;\n",
       "    }\n",
       "\n",
       "    .dataframe tbody tr th {\n",
       "        vertical-align: top;\n",
       "    }\n",
       "\n",
       "    .dataframe thead th {\n",
       "        text-align: right;\n",
       "    }\n",
       "</style>\n",
       "<table border=\"1\" class=\"dataframe\">\n",
       "  <thead>\n",
       "    <tr style=\"text-align: right;\">\n",
       "      <th></th>\n",
       "      <th>profile_id</th>\n",
       "    </tr>\n",
       "  </thead>\n",
       "  <tbody>\n",
       "    <tr>\n",
       "      <th>0</th>\n",
       "      <td>1</td>\n",
       "    </tr>\n",
       "    <tr>\n",
       "      <th>1</th>\n",
       "      <td>4121646</td>\n",
       "    </tr>\n",
       "    <tr>\n",
       "      <th>2</th>\n",
       "      <td>836686</td>\n",
       "    </tr>\n",
       "    <tr>\n",
       "      <th>3</th>\n",
       "      <td>3670821</td>\n",
       "    </tr>\n",
       "    <tr>\n",
       "      <th>4</th>\n",
       "      <td>11025609</td>\n",
       "    </tr>\n",
       "  </tbody>\n",
       "</table>\n",
       "</div>"
      ],
      "text/plain": [
       "   profile_id\n",
       "0           1\n",
       "1     4121646\n",
       "2      836686\n",
       "3     3670821\n",
       "4    11025609"
      ]
     },
     "execution_count": 14,
     "metadata": {},
     "output_type": "execute_result"
    }
   ],
   "source": [
    "nodes_df.head(5)"
   ]
  },
  {
   "cell_type": "code",
   "execution_count": 15,
   "metadata": {},
   "outputs": [
    {
     "data": {
      "text/html": [
       "<div>\n",
       "<style scoped>\n",
       "    .dataframe tbody tr th:only-of-type {\n",
       "        vertical-align: middle;\n",
       "    }\n",
       "\n",
       "    .dataframe tbody tr th {\n",
       "        vertical-align: top;\n",
       "    }\n",
       "\n",
       "    .dataframe thead th {\n",
       "        text-align: right;\n",
       "    }\n",
       "</style>\n",
       "<table border=\"1\" class=\"dataframe\">\n",
       "  <thead>\n",
       "    <tr style=\"text-align: right;\">\n",
       "      <th></th>\n",
       "      <th>source</th>\n",
       "      <th>target</th>\n",
       "    </tr>\n",
       "  </thead>\n",
       "  <tbody>\n",
       "    <tr>\n",
       "      <th>0</th>\n",
       "      <td>1</td>\n",
       "      <td>11553</td>\n",
       "    </tr>\n",
       "    <tr>\n",
       "      <th>1</th>\n",
       "      <td>1378927</td>\n",
       "      <td>1636601</td>\n",
       "    </tr>\n",
       "    <tr>\n",
       "      <th>2</th>\n",
       "      <td>58746</td>\n",
       "      <td>139316</td>\n",
       "    </tr>\n",
       "    <tr>\n",
       "      <th>3</th>\n",
       "      <td>863031</td>\n",
       "      <td>8765346</td>\n",
       "    </tr>\n",
       "    <tr>\n",
       "      <th>4</th>\n",
       "      <td>245477</td>\n",
       "      <td>2030029</td>\n",
       "    </tr>\n",
       "  </tbody>\n",
       "</table>\n",
       "</div>"
      ],
      "text/plain": [
       "    source   target\n",
       "0        1    11553\n",
       "1  1378927  1636601\n",
       "2    58746   139316\n",
       "3   863031  8765346\n",
       "4   245477  2030029"
      ]
     },
     "execution_count": 15,
     "metadata": {},
     "output_type": "execute_result"
    }
   ],
   "source": [
    "edges_df.head(5)"
   ]
  },
  {
   "cell_type": "code",
   "execution_count": 22,
   "metadata": {},
   "outputs": [
    {
     "data": {
      "image/png": "[encoded data removed]",
      "text/plain": [
       "<Figure size 1200x800 with 1 Axes>"
      ]
     },
     "metadata": {},
     "output_type": "display_data"
    }
   ],
   "source": [
    "#Vẽ mối quan hệ\n",
    "G = nx.DiGraph()\n",
    "\n",
    "for idx, row in nodes_df.iterrows():\n",
    "    G.add_node(row['profile_id'])\n",
    "\n",
    "for idx, row in edges_df.iterrows():\n",
    "    src = row['source']\n",
    "    tgt = row['target']\n",
    "    G.add_edge(src, tgt)\n",
    "\n",
    "# 3. (Tùy chọn) Lấy mẫu một phần đồ thị để vẽ, tránh quá tải\n",
    "# Ví dụ: Lấy ngẫu nhiên 200 node rồi tạo subgraph\n",
    "# Lưu ý: Chỉ nên làm nếu dữ liệu quá lớn\n",
    "num_sample = 10\n",
    "if len(G.nodes) > num_sample:\n",
    "    sampled_nodes = set(random.sample(sorted(G.nodes()), num_sample))\n",
    "    # Tạo subgraph chỉ chứa node đã lấy mẫu và các cạnh liên quan\n",
    "    G_sub = G.subgraph(sampled_nodes).copy()\n",
    "else:\n",
    "    G_sub = G\n",
    "\n",
    "# 4. Vẽ đồ thị (với NetworkX + matplotlib)\n",
    "plt.figure(figsize=(12, 8))\n",
    "\n",
    "pos = nx.spring_layout(G_sub, k=0.1, iterations=20)\n",
    "\n",
    "nx.draw_networkx_nodes(G_sub, pos, \n",
    "                       node_size=30, \n",
    "                       node_color='blue', \n",
    "                       alpha=0.7)\n",
    "\n",
    "# Vẽ cạnh có hướng\n",
    "nx.draw_networkx_edges(G_sub, pos,\n",
    "                       edge_color='gray',\n",
    "                       arrows=True,\n",
    "                       arrowstyle='-|>', \n",
    "                       arrowsize=10, \n",
    "                       alpha=0.5)\n",
    "\n",
    "# Tắt trục tọa độ cho gọn\n",
    "plt.axis('off')\n",
    "plt.title(\"Directed Graph of Twitter Users (Sampled)\")\n",
    "plt.show()"
   ]
  },
  {
   "cell_type": "code",
   "execution_count": 17,
   "metadata": {},
   "outputs": [
    {
     "name": "stdout",
     "output_type": "stream",
     "text": [
      "Số lượng nút sau khi làm sạch: 565841\n"
     ]
    }
   ],
   "source": [
    "nodes_df.dropna(subset=['profile_id'], inplace=True)\n",
    "\n",
    "nodes_df.drop_duplicates(subset=['profile_id'], inplace=True)\n",
    "\n",
    "print(\"Số lượng nút sau khi làm sạch:\", len(nodes_df))"
   ]
  },
  {
   "cell_type": "code",
   "execution_count": 18,
   "metadata": {},
   "outputs": [
    {
     "name": "stdout",
     "output_type": "stream",
     "text": [
      "Số lượng cạnh sau khi loại bỏ missing value và duplicate: 4266593\n"
     ]
    }
   ],
   "source": [
    "edges_df.dropna(subset=['source', 'target'], inplace=True)\n",
    "\n",
    "edges_df.drop_duplicates(subset=['source', 'target'], inplace=True)\n",
    "\n",
    "print(\"Số lượng cạnh sau khi loại bỏ missing value và duplicate:\", len(edges_df))"
   ]
  },
  {
   "cell_type": "code",
   "execution_count": 19,
   "metadata": {},
   "outputs": [
    {
     "name": "stdout",
     "output_type": "stream",
     "text": [
      "Số lượng cạnh có source không tồn tại trong nodes: 4048311\n",
      "Số lượng cạnh có target không tồn tại trong nodes: 4061896\n",
      "Số lượng cạnh sau khi làm sạch: 10472\n"
     ]
    }
   ],
   "source": [
    "#Kiểm tra tính nhất quán\n",
    "node_ids = set(nodes_df['profile_id'])\n",
    "\n",
    "missing_source = edges_df[~edges_df['source'].isin(node_ids)]\n",
    "missing_target = edges_df[~edges_df['target'].isin(node_ids)]\n",
    "\n",
    "print(\"Số lượng cạnh có source không tồn tại trong nodes:\", len(missing_source))\n",
    "print(\"Số lượng cạnh có target không tồn tại trong nodes:\", len(missing_target))\n",
    "\n",
    "edges_df = edges_df[edges_df['source'].isin(node_ids) & edges_df['target'].isin(node_ids)]\n",
    "print(\"Số lượng cạnh sau khi làm sạch:\", len(edges_df))\n",
    "\n",
    "nodes_df.to_csv('nodes_clean.csv', index=False)\n",
    "edges_df.to_csv('edges_clean.csv', index=False)"
   ]
  }
 ],
 "metadata": {
  "kernelspec": {
   "display_name": "sklearn-env",
   "language": "python",
   "name": "python3"
  },
  "language_info": {
   "codemirror_mode": {
    "name": "ipython",
    "version": 3
   },
   "file_extension": ".py",
   "mimetype": "text/x-python",
   "name": "python",
   "nbconvert_exporter": "python",
   "pygments_lexer": "ipython3",
   "version": "3.11.11"
  }
 },
 "nbformat": 4,
 "nbformat_minor": 2
}
